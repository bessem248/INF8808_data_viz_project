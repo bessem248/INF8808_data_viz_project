{
 "cells": [
  {
   "cell_type": "markdown",
   "source": [
    "# Rough draft\n",
    "\n",
    "Author: Matthieu"
   ],
   "metadata": {
    "collapsed": false
   }
  },
  {
   "cell_type": "markdown",
   "source": [
    "This Jupyter notebook aims at exploring and trying things easily before implementing them in the clean Python files."
   ],
   "metadata": {
    "collapsed": false
   }
  },
  {
   "cell_type": "markdown",
   "source": [
    "## Importing libraries and data"
   ],
   "metadata": {
    "collapsed": false
   }
  },
  {
   "cell_type": "code",
   "execution_count": 1,
   "outputs": [],
   "source": [
    "import pandas as pd"
   ],
   "metadata": {
    "collapsed": false
   }
  },
  {
   "cell_type": "code",
   "execution_count": 2,
   "outputs": [],
   "source": [
    "df = pd.read_csv(\"assets/data/thesesMemoiresQC2000-2022-v20230508-1.csv\", na_values=\"?\")"
   ],
   "metadata": {
    "collapsed": false
   }
  },
  {
   "cell_type": "code",
   "execution_count": 3,
   "outputs": [
    {
     "data": {
      "text/plain": "        univ                                              titre  année  \\\n0  Concordia  'Poore broaken propertyes' : Rochester and the...   2000   \n1  Concordia  \"A nation of priests\" : the world-view of the ...   2000   \n2  Concordia  \"As they trickle in, they trickle out\" : recru...   2000   \n3  Concordia  \"Baits for curious tasts\" : the Gothic as a he...   2000   \n4  Concordia  \"Catching time\" : pathways to engagement in th...   2000   \n\n         nom        prénom              discipline            domaine langue  \\\n0   Woodford       Gillian  Lettres et littérature  sciences humaines     en   \n1  Mamfredis         Maria  Sciences des religions  sciences humaines     en   \n2     Perzow  Jennifer Ann           Anthropologie  sciences humaines     en   \n3        Roy       James E  Lettres et littérature  sciences humaines     en   \n4   Davidson        Miriam   Éducation / Pédagogie  sciences humaines     en   \n\n      grade  pages                                         url  \\\n0  maîtrise  117.0  https://spectrum.library.concordia.ca/1267   \n1  doctorat  277.0  https://spectrum.library.concordia.ca/1412   \n2  maîtrise  130.0  https://spectrum.library.concordia.ca/1317   \n3  maîtrise  128.0  https://spectrum.library.concordia.ca/1013   \n4  doctorat  291.0  https://spectrum.library.concordia.ca/1246   \n\n            source  \n0  Moissonnage JHR  \n1  Moissonnage JHR  \n2  Moissonnage JHR  \n3  Moissonnage JHR  \n4  Moissonnage JHR  ",
      "text/html": "<div>\n<style scoped>\n    .dataframe tbody tr th:only-of-type {\n        vertical-align: middle;\n    }\n\n    .dataframe tbody tr th {\n        vertical-align: top;\n    }\n\n    .dataframe thead th {\n        text-align: right;\n    }\n</style>\n<table border=\"1\" class=\"dataframe\">\n  <thead>\n    <tr style=\"text-align: right;\">\n      <th></th>\n      <th>univ</th>\n      <th>titre</th>\n      <th>année</th>\n      <th>nom</th>\n      <th>prénom</th>\n      <th>discipline</th>\n      <th>domaine</th>\n      <th>langue</th>\n      <th>grade</th>\n      <th>pages</th>\n      <th>url</th>\n      <th>source</th>\n    </tr>\n  </thead>\n  <tbody>\n    <tr>\n      <th>0</th>\n      <td>Concordia</td>\n      <td>'Poore broaken propertyes' : Rochester and the...</td>\n      <td>2000</td>\n      <td>Woodford</td>\n      <td>Gillian</td>\n      <td>Lettres et littérature</td>\n      <td>sciences humaines</td>\n      <td>en</td>\n      <td>maîtrise</td>\n      <td>117.0</td>\n      <td>https://spectrum.library.concordia.ca/1267</td>\n      <td>Moissonnage JHR</td>\n    </tr>\n    <tr>\n      <th>1</th>\n      <td>Concordia</td>\n      <td>\"A nation of priests\" : the world-view of the ...</td>\n      <td>2000</td>\n      <td>Mamfredis</td>\n      <td>Maria</td>\n      <td>Sciences des religions</td>\n      <td>sciences humaines</td>\n      <td>en</td>\n      <td>doctorat</td>\n      <td>277.0</td>\n      <td>https://spectrum.library.concordia.ca/1412</td>\n      <td>Moissonnage JHR</td>\n    </tr>\n    <tr>\n      <th>2</th>\n      <td>Concordia</td>\n      <td>\"As they trickle in, they trickle out\" : recru...</td>\n      <td>2000</td>\n      <td>Perzow</td>\n      <td>Jennifer Ann</td>\n      <td>Anthropologie</td>\n      <td>sciences humaines</td>\n      <td>en</td>\n      <td>maîtrise</td>\n      <td>130.0</td>\n      <td>https://spectrum.library.concordia.ca/1317</td>\n      <td>Moissonnage JHR</td>\n    </tr>\n    <tr>\n      <th>3</th>\n      <td>Concordia</td>\n      <td>\"Baits for curious tasts\" : the Gothic as a he...</td>\n      <td>2000</td>\n      <td>Roy</td>\n      <td>James E</td>\n      <td>Lettres et littérature</td>\n      <td>sciences humaines</td>\n      <td>en</td>\n      <td>maîtrise</td>\n      <td>128.0</td>\n      <td>https://spectrum.library.concordia.ca/1013</td>\n      <td>Moissonnage JHR</td>\n    </tr>\n    <tr>\n      <th>4</th>\n      <td>Concordia</td>\n      <td>\"Catching time\" : pathways to engagement in th...</td>\n      <td>2000</td>\n      <td>Davidson</td>\n      <td>Miriam</td>\n      <td>Éducation / Pédagogie</td>\n      <td>sciences humaines</td>\n      <td>en</td>\n      <td>doctorat</td>\n      <td>291.0</td>\n      <td>https://spectrum.library.concordia.ca/1246</td>\n      <td>Moissonnage JHR</td>\n    </tr>\n  </tbody>\n</table>\n</div>"
     },
     "execution_count": 3,
     "metadata": {},
     "output_type": "execute_result"
    }
   ],
   "source": [
    "df.head()"
   ],
   "metadata": {
    "collapsed": false
   }
  },
  {
   "cell_type": "markdown",
   "source": [
    "## Data preparation"
   ],
   "metadata": {
    "collapsed": false
   }
  },
  {
   "cell_type": "code",
   "execution_count": 4,
   "outputs": [
    {
     "data": {
      "text/plain": "univ           object\ntitre          object\nannée           int64\nnom            object\nprénom         object\ndiscipline     object\ndomaine        object\nlangue         object\ngrade          object\npages         float64\nurl            object\nsource         object\ndtype: object"
     },
     "execution_count": 4,
     "metadata": {},
     "output_type": "execute_result"
    }
   ],
   "source": [
    "# The different features and their data type\n",
    "df.dtypes"
   ],
   "metadata": {
    "collapsed": false
   }
  },
  {
   "cell_type": "code",
   "execution_count": 5,
   "outputs": [
    {
     "data": {
      "text/plain": "univ              0\ntitre             0\nannée             0\nnom           14486\nprénom        14502\ndiscipline        0\ndomaine           0\nlangue            0\ngrade             0\npages          7641\nurl               0\nsource            0\ndtype: int64"
     },
     "execution_count": 5,
     "metadata": {},
     "output_type": "execute_result"
    }
   ],
   "source": [
    "# Missing values in the dataframe\n",
    "df.isna().sum()"
   ],
   "metadata": {
    "collapsed": false
   }
  },
  {
   "cell_type": "markdown",
   "source": [
    "We have missing values regarding the first names, last names and number of pages."
   ],
   "metadata": {
    "collapsed": false
   }
  },
  {
   "cell_type": "code",
   "execution_count": null,
   "outputs": [],
   "source": [],
   "metadata": {
    "collapsed": false
   }
  },
  {
   "cell_type": "code",
   "execution_count": null,
   "outputs": [],
   "source": [],
   "metadata": {
    "collapsed": false
   }
  }
 ],
 "metadata": {
  "kernelspec": {
   "display_name": "Python 3",
   "language": "python",
   "name": "python3"
  },
  "language_info": {
   "codemirror_mode": {
    "name": "ipython",
    "version": 2
   },
   "file_extension": ".py",
   "mimetype": "text/x-python",
   "name": "python",
   "nbconvert_exporter": "python",
   "pygments_lexer": "ipython2",
   "version": "2.7.6"
  }
 },
 "nbformat": 4,
 "nbformat_minor": 0
}
